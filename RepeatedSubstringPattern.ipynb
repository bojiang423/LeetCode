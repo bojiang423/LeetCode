{
 "cells": [
  {
   "cell_type": "markdown",
   "metadata": {},
   "source": [
    "### Repeated Substring Pattern"
   ]
  },
  {
   "cell_type": "markdown",
   "metadata": {},
   "source": [
    "Given a non-empty string check if it can be constructed by taking a substring of it and appending multiple copies of the substring together. You may assume the given string consists of lowercase English letters only and its length will not exceed 10000. \n",
    "\n",
    "Example 1:  \n",
    "Input: \"abab\"  \n",
    "Output: True  \n",
    "Explanation: It's the substring \"ab\" twice.  \n",
    "\n",
    "Example 2:  \n",
    "Input: \"aba\"  \n",
    "Output: False  \n",
    "\n",
    "Example 3:  \n",
    "Input: \"abcabcabcabc\"  \n",
    "Output: True  \n",
    "Explanation: It's the substring \"abc\" four times. (And the substring \"abcabc\" twice.)"
   ]
  },
  {
   "cell_type": "code",
   "execution_count": null,
   "metadata": {},
   "outputs": [],
   "source": [
    "# Solution 1\n",
    "# Runtime: 192 ms (> 26.98%)\n",
    "# Memory Usage: 13.9 MB (> 50.07%)\n",
    "\n",
    "class Solution:\n",
    "    def repeatedSubstringPattern(self, s: str) -> bool:\n",
    "        \n",
    "        firstChar = s[0]\n",
    "        \n",
    "        for i in range(1, len(s)//2+1):\n",
    "            if s[i] == firstChar:\n",
    "                if s.count(s[:i]) * i == len(s):\n",
    "                    return True\n",
    "        return False"
   ]
  },
  {
   "cell_type": "code",
   "execution_count": null,
   "metadata": {},
   "outputs": [],
   "source": [
    "# Sample Solution 1\n",
    "# Runtime: 20 ms\n",
    "\n",
    "class Solution:\n",
    "    def repeatedSubstringPattern(self, s: str) -> bool:\n",
    "        print(s[1:])\n",
    "        print(s[:-1])\n",
    "        return s in s[1:] + s[:-1]"
   ]
  },
  {
   "cell_type": "code",
   "execution_count": null,
   "metadata": {},
   "outputs": [],
   "source": [
    "# Sample Solution 2\n",
    "# Memory Usage: 13.452 MB\n",
    "\n",
    "class Solution:\n",
    "    def repeatedSubstringPattern(self, s: str) -> bool:\n",
    "        for k in range(1, len(s)//2 +1):   \n",
    "            if s == s[k:] + s[:k]:\n",
    "                return True\n",
    "        return False"
   ]
  }
 ],
 "metadata": {
  "kernelspec": {
   "display_name": "Python 3",
   "language": "python",
   "name": "python3"
  },
  "language_info": {
   "codemirror_mode": {
    "name": "ipython",
    "version": 3
   },
   "file_extension": ".py",
   "mimetype": "text/x-python",
   "name": "python",
   "nbconvert_exporter": "python",
   "pygments_lexer": "ipython3",
   "version": "3.7.6"
  }
 },
 "nbformat": 4,
 "nbformat_minor": 4
}
