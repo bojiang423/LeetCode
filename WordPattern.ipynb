{
 "cells": [
  {
   "cell_type": "markdown",
   "metadata": {},
   "source": [
    "## Word Pattern"
   ]
  },
  {
   "cell_type": "markdown",
   "metadata": {},
   "source": [
    "Given a pattern and a string str, find if str follows the same pattern.\n",
    "\n",
    "Here follow means a full match, such that there is a bijection between a letter in pattern and a non-empty word in str.\n",
    "\n",
    "Example 1:\n",
    "Input: pattern = \"abba\", str = \"dog cat cat dog\"\n",
    "Output: true  \n",
    "\n",
    "Example 2:\n",
    "Input:pattern = \"abba\", str = \"dog cat cat fish\"\n",
    "Output: false  \n",
    "\n",
    "Example 3:\n",
    "Input: pattern = \"aaaa\", str = \"dog cat cat dog\"\n",
    "Output: false  \n",
    "\n",
    "Example 4:\n",
    "Input: pattern = \"abba\", str = \"dog dog dog dog\"\n",
    "Output: false  \n",
    "Notes:\n",
    "You may assume pattern contains only lowercase letters, and str contains lowercase letters that may be separated by a single space."
   ]
  },
  {
   "cell_type": "code",
   "execution_count": null,
   "metadata": {},
   "outputs": [],
   "source": [
    "# Solution 1\n",
    "# 37 / 37 test cases passed.\n",
    "# Runtime: 32 ms (> 60.84%)\n",
    "# Memory Usage: 13.6 MB (> 98.71%)\n",
    "\n",
    "class Solution:\n",
    "    def wordPattern(self, pattern: str, strA: str) -> bool:\n",
    "        \n",
    "        A = strA.split(\" \")\n",
    "        \n",
    "        if len(A) != len(pattern):\n",
    "            return False\n",
    "        \n",
    "        dictA = {}\n",
    "        dictB = {}\n",
    "        checkA = \"\"\n",
    "        checkB = \"\"\n",
    "        \n",
    "        for i in range(len(A)):\n",
    "            if A[i] in dictA:\n",
    "                checkA = checkA + str(dictA[A[i]])\n",
    "            else:\n",
    "                dictA[A[i]] = i\n",
    "                checkA = checkA + str(i)\n",
    "\n",
    "            if pattern[i] in dictB:\n",
    "                checkB = checkB + str(dictB[pattern[i]])\n",
    "            else:\n",
    "                dictB[pattern[i]] = i\n",
    "                checkB = checkB + str(i)\n",
    "\n",
    "        if checkA == checkB:\n",
    "            return True\n",
    "\n",
    "        return False"
   ]
  },
  {
   "cell_type": "code",
   "execution_count": null,
   "metadata": {},
   "outputs": [],
   "source": [
    "# Sample Solution 1 - \n",
    "# Run time: 13 ms\n",
    "\n",
    "class Solution:\n",
    "    def wordPattern(self, pattern: str, str: str) -> bool:\n",
    "        words = str.lstrip().split(\" \")\n",
    "        \n",
    "        if len(words) != len(pattern):\n",
    "            return False\n",
    "        \n",
    "        letter_to_word = {}\n",
    "        word_to_letter = {}\n",
    "        \n",
    "        for letter, word in zip(pattern, words):\n",
    "            if not letter in letter_to_word:\n",
    "                letter_to_word[letter] = word\n",
    "            elif letter_to_word[letter] != word:\n",
    "                return False\n",
    "            \n",
    "            if not word in word_to_letter:\n",
    "                word_to_letter[word] = letter\n",
    "            elif word_to_letter[word] != letter:\n",
    "                return False\n",
    "            \n",
    "        return True"
   ]
  }
 ],
 "metadata": {
  "kernelspec": {
   "display_name": "Python 3",
   "language": "python",
   "name": "python3"
  },
  "language_info": {
   "codemirror_mode": {
    "name": "ipython",
    "version": 3
   },
   "file_extension": ".py",
   "mimetype": "text/x-python",
   "name": "python",
   "nbconvert_exporter": "python",
   "pygments_lexer": "ipython3",
   "version": "3.7.6"
  }
 },
 "nbformat": 4,
 "nbformat_minor": 4
}
