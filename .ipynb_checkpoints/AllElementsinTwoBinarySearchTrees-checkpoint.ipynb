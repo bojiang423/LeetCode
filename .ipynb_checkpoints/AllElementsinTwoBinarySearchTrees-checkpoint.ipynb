{
 "cells": [
  {
   "cell_type": "markdown",
   "metadata": {},
   "source": [
    "### All Elements in Two Binary Search Trees"
   ]
  },
  {
   "cell_type": "code",
   "execution_count": null,
   "metadata": {},
   "outputs": [],
   "source": []
  },
  {
   "cell_type": "code",
   "execution_count": null,
   "metadata": {},
   "outputs": [],
   "source": [
    "# Solution 1\n",
    "# 48 / 48 test cases passed.\n",
    "# Runtime: 596 ms (>21.60%)\n",
    "# Memory Usage: 20.5 MB (> 52.74%)\n",
    "    \n",
    "# Definition for a binary tree node.\n",
    "# class TreeNode:\n",
    "#     def __init__(self, val=0, left=None, right=None):\n",
    "#         self.val = val\n",
    "#         self.left = left\n",
    "#         self.right = right\n",
    "class Solution:\n",
    "    \n",
    "    def inorderTraversal(self, root):\n",
    "        res = []\n",
    "        if root:\n",
    "            res = self.inorderTraversal(root.left)\n",
    "            if type(root.val) is int:\n",
    "                res.append(root.val)\n",
    "            res = res + self.inorderTraversal(root.right)\n",
    "        return res\n",
    "        \n",
    "    def getAllElements(self, root1: TreeNode, root2: TreeNode) -> List[int]:\n",
    "\n",
    "        numlist = self.inorderTraversal(root1) + self.inorderTraversal(root2)\n",
    "        \n",
    "        numlist.sort()\n",
    "        \n",
    "        return numlist"
   ]
  },
  {
   "cell_type": "code",
   "execution_count": null,
   "metadata": {},
   "outputs": [],
   "source": [
    "# Sample solution 1\n",
    "# Runtime: 316 ms\n",
    "\n",
    "\n",
    "# Definition for a binary tree node.\n",
    "# class TreeNode:\n",
    "#     def __init__(self, val=0, left=None, right=None):\n",
    "#         self.val = val\n",
    "#         self.left = left\n",
    "#         self.right = right\n",
    "class Solution:\n",
    "    def getAllElements(self, root1: TreeNode, root2: TreeNode) -> List[int]:\n",
    "        l1, stack1, root = [], [], root1\n",
    "        while stack1 or root:\n",
    "            while root:\n",
    "                stack1.append(root)\n",
    "                root = root.left\n",
    "            root = stack1.pop()\n",
    "            l1.append(root.val)\n",
    "            root = root.right\n",
    "        l2, stack2, root = [], [], root2\n",
    "        while stack2 or root:\n",
    "            while root:\n",
    "                stack2.append(root)\n",
    "                root = root.left\n",
    "            root = stack2.pop()\n",
    "            l2.append(root.val)\n",
    "            root = root.right\n",
    "        l = l1 + l2\n",
    "        return sorted(l)"
   ]
  }
 ],
 "metadata": {
  "kernelspec": {
   "display_name": "Python 3",
   "language": "python",
   "name": "python3"
  },
  "language_info": {
   "codemirror_mode": {
    "name": "ipython",
    "version": 3
   },
   "file_extension": ".py",
   "mimetype": "text/x-python",
   "name": "python",
   "nbconvert_exporter": "python",
   "pygments_lexer": "ipython3",
   "version": "3.7.6"
  }
 },
 "nbformat": 4,
 "nbformat_minor": 4
}
